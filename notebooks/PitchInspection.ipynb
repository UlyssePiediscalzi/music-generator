{
 "cells": [
  {
   "cell_type": "markdown",
   "id": "f3a0ecc8",
   "metadata": {},
   "source": [
    "## Inspecting the Pitches columns\n",
    "Here we can inspect the columns and find out if some of them might be dropped"
   ]
  },
  {
   "cell_type": "code",
   "execution_count": 1,
   "id": "695e3ae5",
   "metadata": {},
   "outputs": [],
   "source": [
    "from music_generator.data import get_npz_data, fetching_instrument_pianorolls\n",
    "import pandas as pd"
   ]
  },
  {
   "cell_type": "code",
   "execution_count": 2,
   "id": "d319e6e9",
   "metadata": {},
   "outputs": [],
   "source": [
    "multitracks = get_npz_data(1500)"
   ]
  },
  {
   "cell_type": "code",
   "execution_count": 3,
   "id": "c84a4629",
   "metadata": {},
   "outputs": [
    {
     "data": {
      "text/plain": [
       "1050"
      ]
     },
     "execution_count": 3,
     "metadata": {},
     "output_type": "execute_result"
    }
   ],
   "source": [
    "piano = fetching_instrument_pianorolls(multitracks, 'Piano')\n",
    "len(piano)"
   ]
  },
  {
   "cell_type": "code",
   "execution_count": 4,
   "id": "a112d64d",
   "metadata": {},
   "outputs": [
    {
     "data": {
      "text/plain": [
       "0"
      ]
     },
     "execution_count": 4,
     "metadata": {},
     "output_type": "execute_result"
    }
   ],
   "source": [
    "drums = fetching_instrument_pianorolls(multitracks, 'Drum')\n",
    "len(drums)"
   ]
  },
  {
   "cell_type": "code",
   "execution_count": 5,
   "id": "138294c6",
   "metadata": {},
   "outputs": [
    {
     "data": {
      "text/plain": [
       "1255"
      ]
     },
     "execution_count": 5,
     "metadata": {},
     "output_type": "execute_result"
    }
   ],
   "source": [
    "bass = fetching_instrument_pianorolls(multitracks, 'Bass')\n",
    "len(bass)"
   ]
  },
  {
   "cell_type": "code",
   "execution_count": 6,
   "id": "16f0886c",
   "metadata": {},
   "outputs": [
    {
     "data": {
      "text/plain": [
       "1348"
      ]
     },
     "execution_count": 6,
     "metadata": {},
     "output_type": "execute_result"
    }
   ],
   "source": [
    "strings = fetching_instrument_pianorolls(multitracks, 'Strings')\n",
    "len(strings)"
   ]
  },
  {
   "cell_type": "code",
   "execution_count": 7,
   "id": "eef35b5b",
   "metadata": {},
   "outputs": [
    {
     "data": {
      "text/plain": [
       "1025"
      ]
     },
     "execution_count": 7,
     "metadata": {},
     "output_type": "execute_result"
    }
   ],
   "source": [
    "guitar = fetching_instrument_pianorolls(multitracks, 'Guitar')\n",
    "len(guitar)"
   ]
  },
  {
   "cell_type": "code",
   "execution_count": 8,
   "id": "abe00e81",
   "metadata": {},
   "outputs": [],
   "source": [
    "def clean_column_df(ls):\n",
    "    ls_df = pd.DataFrame()\n",
    "    for i in range(len(ls)):\n",
    "        ls_df = ls_df.append(pd.DataFrame(ls[i]))\n",
    "\n",
    "    ls_df_clean = ls_df.loc[:, (ls_df != 0).any(axis=0)]\n",
    "    return ls_df_clean"
   ]
  },
  {
   "cell_type": "markdown",
   "id": "024a693e",
   "metadata": {},
   "source": [
    "### Piano"
   ]
  },
  {
   "cell_type": "code",
   "execution_count": 9,
   "id": "cc0db7af",
   "metadata": {},
   "outputs": [
    {
     "name": "stdout",
     "output_type": "stream",
     "text": [
      "(10317744, 100)\n"
     ]
    },
    {
     "data": {
      "text/plain": [
       "Int64Index([  0,   1,  17,  19,  20,  21,  22,  23,  24,  25,  26,  27,  28,\n",
       "             29,  30,  31,  32,  33,  34,  35,  36,  37,  38,  39,  40,  41,\n",
       "             42,  43,  44,  45,  46,  47,  48,  49,  50,  51,  52,  53,  54,\n",
       "             55,  56,  57,  58,  59,  60,  61,  62,  63,  64,  65,  66,  67,\n",
       "             68,  69,  70,  71,  72,  73,  74,  75,  76,  77,  78,  79,  80,\n",
       "             81,  82,  83,  84,  85,  86,  87,  88,  89,  90,  91,  92,  93,\n",
       "             94,  95,  96,  97,  98,  99, 100, 101, 102, 103, 104, 105, 106,\n",
       "            107, 108, 110, 112, 113, 114, 115, 117, 120],\n",
       "           dtype='int64')"
      ]
     },
     "execution_count": 9,
     "metadata": {},
     "output_type": "execute_result"
    }
   ],
   "source": [
    "piano_df = clean_column_df(piano)\n",
    "print(piano_df.shape)\n",
    "piano_df.columns"
   ]
  },
  {
   "cell_type": "markdown",
   "id": "24095ec8",
   "metadata": {},
   "source": [
    "### Bass"
   ]
  },
  {
   "cell_type": "code",
   "execution_count": 10,
   "id": "8f882edc",
   "metadata": {},
   "outputs": [
    {
     "name": "stdout",
     "output_type": "stream",
     "text": [
      "(12748776, 82)\n"
     ]
    },
    {
     "data": {
      "text/plain": [
       "Int64Index([  1,  10,  12,  13,  14,  15,  16,  17,  18,  19,  20,  21,  22,\n",
       "             23,  24,  25,  26,  27,  28,  29,  30,  31,  32,  33,  34,  35,\n",
       "             36,  37,  38,  39,  40,  41,  42,  43,  44,  45,  46,  47,  48,\n",
       "             49,  50,  51,  52,  53,  54,  55,  56,  57,  58,  59,  60,  61,\n",
       "             62,  63,  64,  65,  66,  67,  68,  69,  70,  71,  72,  73,  74,\n",
       "             75,  76,  77,  78,  79,  80,  81,  82,  83,  84,  85,  86,  88,\n",
       "             89,  91,  98, 115],\n",
       "           dtype='int64')"
      ]
     },
     "execution_count": 10,
     "metadata": {},
     "output_type": "execute_result"
    }
   ],
   "source": [
    "bass_df = clean_column_df(bass)\n",
    "print(bass_df.shape)\n",
    "bass_df.columns"
   ]
  },
  {
   "cell_type": "markdown",
   "id": "f9ec2a24",
   "metadata": {},
   "source": [
    "### Strings"
   ]
  },
  {
   "cell_type": "code",
   "execution_count": 11,
   "id": "7cdf1946",
   "metadata": {},
   "outputs": [
    {
     "name": "stdout",
     "output_type": "stream",
     "text": [
      "(13510656, 112)\n"
     ]
    },
    {
     "data": {
      "text/plain": [
       "Int64Index([  0,   1,  10,  11,  13,  17,  19,  20,  21,  22,\n",
       "            ...\n",
       "            115, 116, 117, 118, 119, 120, 121, 122, 123, 124],\n",
       "           dtype='int64', length=112)"
      ]
     },
     "execution_count": 11,
     "metadata": {},
     "output_type": "execute_result"
    }
   ],
   "source": [
    "strings_df = clean_column_df(strings)\n",
    "print(strings_df.shape)\n",
    "strings_df.columns"
   ]
  },
  {
   "cell_type": "markdown",
   "id": "1a63c3bd",
   "metadata": {},
   "source": [
    "### Guitar"
   ]
  },
  {
   "cell_type": "code",
   "execution_count": 12,
   "id": "6e49ff66",
   "metadata": {},
   "outputs": [
    {
     "name": "stdout",
     "output_type": "stream",
     "text": [
      "(10274760, 80)\n"
     ]
    },
    {
     "data": {
      "text/plain": [
       "Int64Index([ 24,  25,  26,  27,  28,  29,  30,  31,  32,  33,  34,  35,  36,\n",
       "             37,  38,  39,  40,  41,  42,  43,  44,  45,  46,  47,  48,  49,\n",
       "             50,  51,  52,  53,  54,  55,  56,  57,  58,  59,  60,  61,  62,\n",
       "             63,  64,  65,  66,  67,  68,  69,  70,  71,  72,  73,  74,  75,\n",
       "             76,  77,  78,  79,  80,  81,  82,  83,  84,  85,  86,  87,  88,\n",
       "             89,  90,  91,  92,  93,  94,  95,  96,  97,  98, 100, 123, 124,\n",
       "            126, 127],\n",
       "           dtype='int64')"
      ]
     },
     "execution_count": 12,
     "metadata": {},
     "output_type": "execute_result"
    }
   ],
   "source": [
    "guitar_df = clean_column_df(guitar)\n",
    "print(guitar_df.shape)\n",
    "guitar_df.columns"
   ]
  }
 ],
 "metadata": {
  "kernelspec": {
   "display_name": "Python 3 (ipykernel)",
   "language": "python",
   "name": "python3"
  },
  "language_info": {
   "codemirror_mode": {
    "name": "ipython",
    "version": 3
   },
   "file_extension": ".py",
   "mimetype": "text/x-python",
   "name": "python",
   "nbconvert_exporter": "python",
   "pygments_lexer": "ipython3",
   "version": "3.8.12"
  },
  "toc": {
   "base_numbering": 1,
   "nav_menu": {},
   "number_sections": true,
   "sideBar": true,
   "skip_h1_title": false,
   "title_cell": "Table of Contents",
   "title_sidebar": "Contents",
   "toc_cell": false,
   "toc_position": {},
   "toc_section_display": true,
   "toc_window_display": false
  }
 },
 "nbformat": 4,
 "nbformat_minor": 5
}

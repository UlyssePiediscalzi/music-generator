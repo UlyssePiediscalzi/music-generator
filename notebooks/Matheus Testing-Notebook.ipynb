{
 "cells": [
  {
   "cell_type": "markdown",
   "id": "d50a9e0e",
   "metadata": {},
   "source": [
    "# Getting to know the dataset and format"
   ]
  },
  {
   "cell_type": "code",
   "execution_count": 1,
   "id": "fcbfcdb0",
   "metadata": {},
   "outputs": [],
   "source": [
    "import pypianoroll\n",
    "import glob"
   ]
  },
  {
   "cell_type": "code",
   "execution_count": 2,
   "id": "a76b9c36",
   "metadata": {},
   "outputs": [],
   "source": [
    "# get a list of the possible filepaths for the npz files\n",
    "files = glob.glob('../raw_data/lpd_5/lpd_5_cleansed/**/**/**/**/*.npz')"
   ]
  },
  {
   "cell_type": "code",
   "execution_count": 3,
   "id": "bae9abc1",
   "metadata": {},
   "outputs": [
    {
     "data": {
      "text/plain": [
       "list"
      ]
     },
     "execution_count": 3,
     "metadata": {},
     "output_type": "execute_result"
    }
   ],
   "source": [
    "type(files)"
   ]
  },
  {
   "cell_type": "code",
   "execution_count": 4,
   "id": "c9a4e24f",
   "metadata": {},
   "outputs": [
    {
     "data": {
      "text/plain": [
       "21425"
      ]
     },
     "execution_count": 4,
     "metadata": {},
     "output_type": "execute_result"
    }
   ],
   "source": [
    "len(files)"
   ]
  },
  {
   "cell_type": "code",
   "execution_count": 5,
   "id": "95b3ace3",
   "metadata": {},
   "outputs": [
    {
     "data": {
      "text/plain": [
       "'../raw_data/lpd_5/lpd_5_cleansed/J/J/J/TRJJJCW128F42218C7/988d41b1d934d6875e9d05337d83dfa0.npz'"
      ]
     },
     "execution_count": 5,
     "metadata": {},
     "output_type": "execute_result"
    }
   ],
   "source": [
    "files[0]"
   ]
  },
  {
   "cell_type": "code",
   "execution_count": 6,
   "id": "57fbbdc3",
   "metadata": {},
   "outputs": [],
   "source": [
    "# Load n files from the dataset\n",
    "n = 10\n",
    "multitracks = [pypianoroll.load(fp) for fp in files[0:n]]"
   ]
  },
  {
   "cell_type": "code",
   "execution_count": 7,
   "id": "eee74a85",
   "metadata": {},
   "outputs": [
    {
     "data": {
      "text/plain": [
       "10"
      ]
     },
     "execution_count": 7,
     "metadata": {},
     "output_type": "execute_result"
    }
   ],
   "source": [
    "len(multitracks)"
   ]
  },
  {
   "cell_type": "code",
   "execution_count": 8,
   "id": "7226d1a7",
   "metadata": {},
   "outputs": [
    {
     "data": {
      "text/plain": [
       "[StandardTrack(name='Drums', program=0, is_drum=True, pianoroll=array(shape=(11160, 128), dtype=uint8)),\n",
       " StandardTrack(name='Piano', program=0, is_drum=False, pianoroll=array(shape=(11160, 128), dtype=uint8)),\n",
       " StandardTrack(name='Guitar', program=24, is_drum=False, pianoroll=array(shape=(11160, 128), dtype=uint8)),\n",
       " StandardTrack(name='Bass', program=32, is_drum=False, pianoroll=array(shape=(11160, 128), dtype=uint8)),\n",
       " StandardTrack(name='Strings', program=48, is_drum=False, pianoroll=array(shape=(11160, 128), dtype=uint8))]"
      ]
     },
     "execution_count": 8,
     "metadata": {},
     "output_type": "execute_result"
    }
   ],
   "source": [
    "multitracks[0].tracks"
   ]
  },
  {
   "cell_type": "code",
   "execution_count": 9,
   "id": "2068d017",
   "metadata": {},
   "outputs": [],
   "source": [
    "# Extract only the piano tracks from the multitracks (piano is the second track, hence, index = 1)\n",
    "piano_tracks = []\n",
    "for i in range(n):\n",
    "    piano_tracks.append(multitracks[i].tracks[1])"
   ]
  },
  {
   "cell_type": "code",
   "execution_count": 10,
   "id": "16bbc15a",
   "metadata": {},
   "outputs": [
    {
     "ename": "SyntaxError",
     "evalue": "invalid syntax (1254801484.py, line 1)",
     "output_type": "error",
     "traceback": [
      "\u001b[0;36m  File \u001b[0;32m\"/tmp/ipykernel_16019/1254801484.py\"\u001b[0;36m, line \u001b[0;32m1\u001b[0m\n\u001b[0;31m    piano_tracks[0].\u001b[0m\n\u001b[0m                    ^\u001b[0m\n\u001b[0;31mSyntaxError\u001b[0m\u001b[0;31m:\u001b[0m invalid syntax\n"
     ]
    }
   ],
   "source": [
    "piano_tracks[0]."
   ]
  },
  {
   "cell_type": "code",
   "execution_count": null,
   "id": "b2e9e2bc",
   "metadata": {},
   "outputs": [],
   "source": [
    "piano_tracks[0].pianoroll.shape"
   ]
  },
  {
   "cell_type": "code",
   "execution_count": null,
   "id": "6e061425",
   "metadata": {},
   "outputs": [],
   "source": [
    "# Saves a midi file for all of the multitracks loaded\n",
    "for i in range(n):\n",
    "    pypianoroll.write(f'midi/track{i}.midi', multitracks[i])"
   ]
  },
  {
   "cell_type": "code",
   "execution_count": null,
   "id": "122115c7",
   "metadata": {},
   "outputs": [],
   "source": []
  }
 ],
 "metadata": {
  "kernelspec": {
   "display_name": "Python 3 (ipykernel)",
   "language": "python",
   "name": "python3"
  },
  "language_info": {
   "codemirror_mode": {
    "name": "ipython",
    "version": 3
   },
   "file_extension": ".py",
   "mimetype": "text/x-python",
   "name": "python",
   "nbconvert_exporter": "python",
   "pygments_lexer": "ipython3",
   "version": "3.8.12"
  },
  "toc": {
   "base_numbering": 1,
   "nav_menu": {},
   "number_sections": true,
   "sideBar": true,
   "skip_h1_title": false,
   "title_cell": "Table of Contents",
   "title_sidebar": "Contents",
   "toc_cell": false,
   "toc_position": {},
   "toc_section_display": true,
   "toc_window_display": false
  }
 },
 "nbformat": 4,
 "nbformat_minor": 5
}

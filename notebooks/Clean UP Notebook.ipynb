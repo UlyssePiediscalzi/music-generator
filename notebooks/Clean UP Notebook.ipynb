{
 "cells": [
  {
   "cell_type": "code",
   "execution_count": 42,
   "id": "23842aeb",
   "metadata": {},
   "outputs": [
    {
     "name": "stdout",
     "output_type": "stream",
     "text": [
      "The autoreload extension is already loaded. To reload it, use:\n",
      "  %reload_ext autoreload\n"
     ]
    }
   ],
   "source": [
    "%load_ext autoreload  \n",
    "%autoreload 2"
   ]
  },
  {
   "cell_type": "code",
   "execution_count": 41,
   "id": "301816b8",
   "metadata": {},
   "outputs": [],
   "source": [
    "import pypianoroll\n",
    "import matplotlib.pyplot as plt\n",
    "import IPython\n",
    "import pretty_midi\n",
    "from midi2audio import FluidSynth\n",
    "import os\n",
    "import shutil\n",
    "import glob\n",
    "import numpy as np \n",
    "import pandas as pd\n",
    "import pretty_midi\n",
    "import pickle\n",
    "import pypianoroll\n",
    "from music21 import converter, instrument, note, chord, stream\n",
    "import music21\n",
    "# import librosa\n",
    "import matplotlib.pyplot as plt\n",
    "# from tensorflow.keras.utils import np_utils\n",
    "import json\n",
    "import IPython.display\n",
    "from datetime import datetime\n",
    "import mido\n",
    "root_dir = '../raw_data'\n",
    "from music_generator.data import get_npz_data, multitrack_to_midi, fetching_instrument_pianorolls\n",
    "from music_generator.midi import sample_multitrack"
   ]
  },
  {
   "cell_type": "code",
   "execution_count": 43,
   "id": "d5c67873",
   "metadata": {},
   "outputs": [],
   "source": [
    "data = get_npz_data(100, data_path='../raw_data/lpd_5/lpd_5_cleansed')"
   ]
  },
  {
   "cell_type": "code",
   "execution_count": 44,
   "id": "e3fddb3e",
   "metadata": {},
   "outputs": [],
   "source": [
    "pianorolls = fetching_instrument_pianorolls(data, 'Piano')"
   ]
  },
  {
   "cell_type": "code",
   "execution_count": 45,
   "id": "3301a49e",
   "metadata": {},
   "outputs": [],
   "source": [
    "midi_transfo = multitrack_to_midi(data, save_path='../raw_data/midi')"
   ]
  },
  {
   "cell_type": "code",
   "execution_count": 56,
   "id": "74b0457d",
   "metadata": {},
   "outputs": [
    {
     "ename": "NameError",
     "evalue": "name 'multi' is not defined",
     "output_type": "error",
     "traceback": [
      "\u001b[0;31m---------------------------------------------------------------------------\u001b[0m",
      "\u001b[0;31mNameError\u001b[0m                                 Traceback (most recent call last)",
      "\u001b[0;32m/var/folders/40/ng9mh_p9257g6fg__r5hmzrh0000gn/T/ipykernel_39194/4025953016.py\u001b[0m in \u001b[0;36m<module>\u001b[0;34m\u001b[0m\n\u001b[0;32m----> 1\u001b[0;31m \u001b[0;32mfor\u001b[0m \u001b[0mstandard\u001b[0m \u001b[0;32min\u001b[0m \u001b[0mmulti\u001b[0m\u001b[0;34m:\u001b[0m\u001b[0;34m\u001b[0m\u001b[0;34m\u001b[0m\u001b[0m\n\u001b[0m\u001b[1;32m      2\u001b[0m     \u001b[0;32mif\u001b[0m \u001b[0mstandard\u001b[0m\u001b[0;34m.\u001b[0m\u001b[0mname\u001b[0m \u001b[0;32min\u001b[0m \u001b[0minstrument\u001b[0m \u001b[0;32mand\u001b[0m \u001b[0mstandard\u001b[0m\u001b[0;34m.\u001b[0m\u001b[0mpianoroll\u001b[0m\u001b[0;34m.\u001b[0m\u001b[0mshape\u001b[0m\u001b[0;34m[\u001b[0m\u001b[0;36m0\u001b[0m\u001b[0;34m]\u001b[0m \u001b[0;34m!=\u001b[0m \u001b[0;36m0\u001b[0m\u001b[0;34m:\u001b[0m\u001b[0;34m\u001b[0m\u001b[0;34m\u001b[0m\u001b[0m\n\u001b[1;32m      3\u001b[0m         \u001b[0mpianoroll_arrays\u001b[0m\u001b[0;34m.\u001b[0m\u001b[0mappend\u001b[0m\u001b[0;34m(\u001b[0m\u001b[0mstandard\u001b[0m\u001b[0;34m.\u001b[0m\u001b[0mpianoroll\u001b[0m\u001b[0;34m)\u001b[0m\u001b[0;34m\u001b[0m\u001b[0;34m\u001b[0m\u001b[0m\n",
      "\u001b[0;31mNameError\u001b[0m: name 'multi' is not defined"
     ]
    }
   ],
   "source": [
    "track = \n",
    "for standard in data[0]:\n",
    "    if standard.name in 'Piano' and standard.pianoroll.shape[0] != 0:\n",
    "        pianoroll_arrays.append(standard.pianoroll)"
   ]
  },
  {
   "cell_type": "code",
   "execution_count": 50,
   "id": "770b865d",
   "metadata": {},
   "outputs": [
    {
     "ename": "AttributeError",
     "evalue": "'list' object has no attribute 'pianoroll'",
     "output_type": "error",
     "traceback": [
      "\u001b[0;31m---------------------------------------------------------------------------\u001b[0m",
      "\u001b[0;31mAttributeError\u001b[0m                            Traceback (most recent call last)",
      "\u001b[0;32m/var/folders/40/ng9mh_p9257g6fg__r5hmzrh0000gn/T/ipykernel_39194/4167283590.py\u001b[0m in \u001b[0;36m<module>\u001b[0;34m\u001b[0m\n\u001b[0;32m----> 1\u001b[0;31m \u001b[0mtest\u001b[0m \u001b[0;34m=\u001b[0m \u001b[0msample_multitrack\u001b[0m\u001b[0;34m(\u001b[0m\u001b[0mdata\u001b[0m\u001b[0;34m[\u001b[0m\u001b[0;36m0\u001b[0m\u001b[0;34m]\u001b[0m\u001b[0;34m,\u001b[0m\u001b[0mdata\u001b[0m\u001b[0;34m[\u001b[0m\u001b[0;36m0\u001b[0m\u001b[0;34m]\u001b[0m\u001b[0;34m.\u001b[0m\u001b[0mtracks\u001b[0m \u001b[0;34m)\u001b[0m\u001b[0;34m\u001b[0m\u001b[0;34m\u001b[0m\u001b[0m\n\u001b[0m",
      "\u001b[0;32m~/code/UlyssePiediscalzi/music_generator/music_generator/midi.py\u001b[0m in \u001b[0;36msample_multitrack\u001b[0;34m(multitrack, track, x_qnotes, y_qnotes)\u001b[0m\n\u001b[1;32m     10\u001b[0m \u001b[0;34m\u001b[0m\u001b[0m\n\u001b[1;32m     11\u001b[0m \u001b[0;32mdef\u001b[0m \u001b[0msample_multitrack\u001b[0m\u001b[0;34m(\u001b[0m\u001b[0mmultitrack\u001b[0m\u001b[0;34m,\u001b[0m \u001b[0mtrack\u001b[0m\u001b[0;34m,\u001b[0m \u001b[0mx_qnotes\u001b[0m\u001b[0;34m=\u001b[0m\u001b[0;36m4\u001b[0m\u001b[0;34m,\u001b[0m \u001b[0my_qnotes\u001b[0m\u001b[0;34m=\u001b[0m\u001b[0;36m2\u001b[0m\u001b[0;34m)\u001b[0m\u001b[0;34m:\u001b[0m\u001b[0;34m\u001b[0m\u001b[0;34m\u001b[0m\u001b[0m\n\u001b[0;32m---> 12\u001b[0;31m     \u001b[0mpianoroll\u001b[0m \u001b[0;34m=\u001b[0m \u001b[0mtrack\u001b[0m\u001b[0;34m.\u001b[0m\u001b[0mpianoroll\u001b[0m\u001b[0;34m\u001b[0m\u001b[0;34m\u001b[0m\u001b[0m\n\u001b[0m\u001b[1;32m     13\u001b[0m     \u001b[0mqnote\u001b[0m \u001b[0;34m=\u001b[0m \u001b[0mmultitrack\u001b[0m\u001b[0;34m.\u001b[0m\u001b[0mresolution\u001b[0m\u001b[0;34m\u001b[0m\u001b[0;34m\u001b[0m\u001b[0m\n\u001b[1;32m     14\u001b[0m     \u001b[0mquarter_notes\u001b[0m \u001b[0;34m=\u001b[0m \u001b[0mint\u001b[0m\u001b[0;34m(\u001b[0m\u001b[0mpianoroll\u001b[0m\u001b[0;34m.\u001b[0m\u001b[0mshape\u001b[0m\u001b[0;34m[\u001b[0m\u001b[0;36m0\u001b[0m\u001b[0;34m]\u001b[0m\u001b[0;34m/\u001b[0m\u001b[0mqnote\u001b[0m\u001b[0;34m)\u001b[0m\u001b[0;34m\u001b[0m\u001b[0;34m\u001b[0m\u001b[0m\n",
      "\u001b[0;31mAttributeError\u001b[0m: 'list' object has no attribute 'pianoroll'"
     ]
    }
   ],
   "source": [
    "test = sample_multitrack(data[0],data[0].tracks )"
   ]
  },
  {
   "cell_type": "code",
   "execution_count": 7,
   "id": "d915211a",
   "metadata": {
    "scrolled": true
   },
   "outputs": [],
   "source": [
    "X = fetching_instrument_pianorolls(data, 'Piano')"
   ]
  },
  {
   "cell_type": "code",
   "execution_count": 40,
   "id": "a4c44af9",
   "metadata": {},
   "outputs": [
    {
     "data": {
      "text/plain": [
       "8856.0"
      ]
     },
     "execution_count": 40,
     "metadata": {},
     "output_type": "execute_result"
    }
   ],
   "source": [
    "list_shape= []\n",
    "\n",
    "for i in X:\n",
    "    list_shape.append(len(i))\n",
    "\n",
    "np.median(list_shape)"
   ]
  }
 ],
 "metadata": {
  "kernelspec": {
   "display_name": "Python 3 (ipykernel)",
   "language": "python",
   "name": "python3"
  },
  "language_info": {
   "codemirror_mode": {
    "name": "ipython",
    "version": 3
   },
   "file_extension": ".py",
   "mimetype": "text/x-python",
   "name": "python",
   "nbconvert_exporter": "python",
   "pygments_lexer": "ipython3",
   "version": "3.8.12"
  },
  "toc": {
   "base_numbering": 1,
   "nav_menu": {},
   "number_sections": true,
   "sideBar": true,
   "skip_h1_title": false,
   "title_cell": "Table of Contents",
   "title_sidebar": "Contents",
   "toc_cell": false,
   "toc_position": {},
   "toc_section_display": true,
   "toc_window_display": false
  }
 },
 "nbformat": 4,
 "nbformat_minor": 5
}

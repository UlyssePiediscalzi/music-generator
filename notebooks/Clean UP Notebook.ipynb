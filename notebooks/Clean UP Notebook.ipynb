{
 "cells": [
  {
   "cell_type": "code",
   "execution_count": 42,
   "id": "23842aeb",
   "metadata": {},
   "outputs": [
    {
     "name": "stdout",
     "output_type": "stream",
     "text": [
      "The autoreload extension is already loaded. To reload it, use:\n",
      "  %reload_ext autoreload\n"
     ]
    }
   ],
   "source": [
    "%load_ext autoreload  \n",
    "%autoreload 2"
   ]
  },
  {
   "cell_type": "code",
   "execution_count": null,
   "id": "d29edb83",
   "metadata": {},
   "outputs": [],
   "source": [
    "import numpy as np\n",
    "import pypianoroll\n",
    "import matplotlib.pyplot as plt\n",
    "import pandas as pd\n"
   ]
  },
  {
   "cell_type": "code",
   "execution_count": null,
   "id": "bb72c24a",
   "metadata": {},
   "outputs": [],
   "source": [
    "from tensorflow.keras import models\n",
    "from tensorflow.keras import layers\n",
    "from tensorflow.keras.optimizers import RMSprop"
   ]
  },
  {
   "cell_type": "code",
   "execution_count": 4,
   "id": "301816b8",
   "metadata": {},
   "outputs": [],
   "source": [
    "import pypianoroll\n",
    "import matplotlib.pyplot as plt\n",
    "import IPython\n",
    "import pretty_midi\n",
    "from midi2audio import FluidSynth\n",
    "import os\n",
    "import shutil\n",
    "import glob\n",
    "import numpy as np \n",
    "import pandas as pd\n",
    "import pretty_midi\n",
    "import pickle\n",
    "import pypianoroll\n",
    "from music21 import converter, instrument, note, chord, stream\n",
    "import music21\n",
    "# import librosa\n",
    "import matplotlib.pyplot as plt\n",
    "# from tensorflow.keras.utils import np_utils\n",
    "import json\n",
    "import IPython.display\n",
    "from datetime import datetime\n",
    "import mido\n",
    "root_dir = '../raw_data'\n",
    "from music_generator.data import get_npz_data, multitrack_to_midi, fetching_instrument_pianorolls\n",
    "from music_generator.midi import sample_multitrack"
   ]
  },
  {
   "cell_type": "code",
   "execution_count": 5,
   "id": "d5c67873",
   "metadata": {},
   "outputs": [],
   "source": [
    "data = get_npz_data(100, data_path='../raw_data/lpd_5/lpd_5_cleansed')"
   ]
  },
  {
   "cell_type": "code",
   "execution_count": 45,
   "id": "3301a49e",
   "metadata": {},
   "outputs": [],
   "source": [
    "midi_transfo = multitrack_to_midi(data, save_path='../raw_data/midi')"
   ]
  },
  {
   "cell_type": "code",
   "execution_count": 7,
   "id": "e3fddb3e",
   "metadata": {},
   "outputs": [],
   "source": [
    "pianorolls = fetching_instrument_pianorolls(data, 'Piano')"
   ]
  },
  {
   "cell_type": "code",
   "execution_count": 13,
   "id": "af7be89f",
   "metadata": {},
   "outputs": [
    {
     "ename": "TypeError",
     "evalue": "array() missing required argument 'object' (pos 1)",
     "output_type": "error",
     "traceback": [
      "\u001b[0;31m---------------------------------------------------------------------------\u001b[0m",
      "\u001b[0;31mTypeError\u001b[0m                                 Traceback (most recent call last)",
      "\u001b[0;32m/var/folders/40/ng9mh_p9257g6fg__r5hmzrh0000gn/T/ipykernel_44963/1273753851.py\u001b[0m in \u001b[0;36m<module>\u001b[0;34m\u001b[0m\n\u001b[0;32m----> 1\u001b[0;31m \u001b[0mtest\u001b[0m \u001b[0;34m=\u001b[0m \u001b[0mnp\u001b[0m\u001b[0;34m.\u001b[0m\u001b[0marray\u001b[0m\u001b[0;34m(\u001b[0m\u001b[0;34m)\u001b[0m\u001b[0;34m\u001b[0m\u001b[0;34m\u001b[0m\u001b[0m\n\u001b[0m\u001b[1;32m      2\u001b[0m \u001b[0;32mfor\u001b[0m \u001b[0mi\u001b[0m \u001b[0;32min\u001b[0m \u001b[0mpianorolls\u001b[0m\u001b[0;34m:\u001b[0m\u001b[0;34m\u001b[0m\u001b[0;34m\u001b[0m\u001b[0m\n\u001b[1;32m      3\u001b[0m     \u001b[0mprint\u001b[0m\u001b[0;34m(\u001b[0m\u001b[0mi\u001b[0m\u001b[0;34m.\u001b[0m\u001b[0mshape\u001b[0m\u001b[0;34m)\u001b[0m\u001b[0;34m\u001b[0m\u001b[0;34m\u001b[0m\u001b[0m\n",
      "\u001b[0;31mTypeError\u001b[0m: array() missing required argument 'object' (pos 1)"
     ]
    }
   ],
   "source": [
    "test = []\n",
    "resolution = 24\n",
    "for i in pianorolls:\n",
    "    test.append(sample_multitrack(data[0], ))"
   ]
  },
  {
   "cell_type": "code",
   "execution_count": null,
   "id": "6f8f5a0a",
   "metadata": {},
   "outputs": [],
   "source": [
    "# def sample_multitrack(multitrack, track, x_qnotes=4, y_qnotes=2):\n",
    "pianoroll = track.pianoroll\n",
    "qnote = multitrack.resolution\n",
    "quarter_notes = int(pianoroll.shape[0]/qnote)\n",
    "X = []\n",
    "y = []\n",
    "for i in range(int(np.floor(quarter_notes/(x_qnotes+y_qnotes)))):\n",
    "    X_start = i*x_qnotes *qnote\n",
    "    X_end = ((i+1)*x_qnotes) *qnote\n",
    "    y_start = X_end\n",
    "    y_end = ((i+1)*x_qnotes + y_qnotes) *qnote\n",
    "    X.append(pianoroll[X_start:X_end])\n",
    "    y.append(pianoroll[y_start:y_end])\n",
    "return np.array(X), np.array(y)"
   ]
  },
  {
   "cell_type": "code",
   "execution_count": 29,
   "id": "e7ce3ecf",
   "metadata": {},
   "outputs": [],
   "source": [
    "X = []\n",
    "y = []\n",
    "qnote = 24\n",
    "x_qnotes=8\n",
    "y_qnotes=4\n",
    "for pianoroll in pianorolls:\n",
    "    quarter_notes = int(pianoroll.shape[0]/qnote)\n",
    "    for i in range(int(np.floor(quarter_notes/(x_qnotes+y_qnotes)))):\n",
    "        X_start = i*x_qnotes *qnote\n",
    "        X_end = ((i+1)*x_qnotes) *qnote\n",
    "        y_start = X_end\n",
    "        y_end = ((i+1)*x_qnotes + y_qnotes) *qnote\n",
    "        X.append(pianoroll[X_start:X_end])\n",
    "        y.append(pianoroll[y_start:y_end])\n",
    "X=np.array(X)\n",
    "y=np.array(y)\n"
   ]
  },
  {
   "cell_type": "code",
   "execution_count": null,
   "id": "bafffb7b",
   "metadata": {},
   "outputs": [],
   "source": []
  },
  {
   "cell_type": "code",
   "execution_count": 30,
   "id": "8dedbe8a",
   "metadata": {},
   "outputs": [
    {
     "name": "stdout",
     "output_type": "stream",
     "text": [
      "(192, 128) 128\n"
     ]
    },
    {
     "ename": "NameError",
     "evalue": "name 'models' is not defined",
     "output_type": "error",
     "traceback": [
      "\u001b[0;31m---------------------------------------------------------------------------\u001b[0m",
      "\u001b[0;31mNameError\u001b[0m                                 Traceback (most recent call last)",
      "\u001b[0;32m/var/folders/40/ng9mh_p9257g6fg__r5hmzrh0000gn/T/ipykernel_44963/1310355230.py\u001b[0m in \u001b[0;36m<module>\u001b[0;34m\u001b[0m\n\u001b[1;32m     10\u001b[0m     \u001b[0;32mreturn\u001b[0m \u001b[0mmodel\u001b[0m\u001b[0;34m\u001b[0m\u001b[0;34m\u001b[0m\u001b[0m\n\u001b[1;32m     11\u001b[0m \u001b[0;34m\u001b[0m\u001b[0m\n\u001b[0;32m---> 12\u001b[0;31m \u001b[0mmodel\u001b[0m \u001b[0;34m=\u001b[0m \u001b[0minit_model\u001b[0m\u001b[0;34m(\u001b[0m\u001b[0mX\u001b[0m\u001b[0;34m,\u001b[0m \u001b[0my\u001b[0m\u001b[0;34m)\u001b[0m\u001b[0;34m\u001b[0m\u001b[0;34m\u001b[0m\u001b[0m\n\u001b[0m\u001b[1;32m     13\u001b[0m \u001b[0mmodel\u001b[0m\u001b[0;34m.\u001b[0m\u001b[0msummary\u001b[0m\u001b[0;34m(\u001b[0m\u001b[0;34m)\u001b[0m\u001b[0;34m\u001b[0m\u001b[0;34m\u001b[0m\u001b[0m\n",
      "\u001b[0;32m/var/folders/40/ng9mh_p9257g6fg__r5hmzrh0000gn/T/ipykernel_44963/1310355230.py\u001b[0m in \u001b[0;36minit_model\u001b[0;34m(X, y)\u001b[0m\n\u001b[1;32m      3\u001b[0m     \u001b[0moutput_shape\u001b[0m \u001b[0;34m=\u001b[0m \u001b[0my\u001b[0m\u001b[0;34m[\u001b[0m\u001b[0;36m0\u001b[0m\u001b[0;34m]\u001b[0m\u001b[0;34m.\u001b[0m\u001b[0mshape\u001b[0m\u001b[0;34m[\u001b[0m\u001b[0;36m1\u001b[0m\u001b[0;34m]\u001b[0m\u001b[0;34m\u001b[0m\u001b[0;34m\u001b[0m\u001b[0m\n\u001b[1;32m      4\u001b[0m     \u001b[0mprint\u001b[0m \u001b[0;34m(\u001b[0m\u001b[0minput_shape\u001b[0m\u001b[0;34m,\u001b[0m \u001b[0moutput_shape\u001b[0m\u001b[0;34m)\u001b[0m\u001b[0;34m\u001b[0m\u001b[0;34m\u001b[0m\u001b[0m\n\u001b[0;32m----> 5\u001b[0;31m     \u001b[0mmodel\u001b[0m \u001b[0;34m=\u001b[0m \u001b[0mmodels\u001b[0m\u001b[0;34m.\u001b[0m\u001b[0mSequential\u001b[0m\u001b[0;34m(\u001b[0m\u001b[0;34m)\u001b[0m\u001b[0;34m\u001b[0m\u001b[0;34m\u001b[0m\u001b[0m\n\u001b[0m\u001b[1;32m      6\u001b[0m     \u001b[0mmodel\u001b[0m\u001b[0;34m.\u001b[0m\u001b[0madd\u001b[0m\u001b[0;34m(\u001b[0m\u001b[0mlayers\u001b[0m\u001b[0;34m.\u001b[0m\u001b[0mSimpleRNN\u001b[0m\u001b[0;34m(\u001b[0m\u001b[0;36m128\u001b[0m\u001b[0;34m,\u001b[0m \u001b[0mreturn_sequences\u001b[0m\u001b[0;34m=\u001b[0m\u001b[0;32mTrue\u001b[0m\u001b[0;34m,\u001b[0m \u001b[0mactivation\u001b[0m\u001b[0;34m=\u001b[0m\u001b[0;34m'relu'\u001b[0m\u001b[0;34m,\u001b[0m \u001b[0minput_shape\u001b[0m\u001b[0;34m=\u001b[0m\u001b[0minput_shape\u001b[0m\u001b[0;34m)\u001b[0m\u001b[0;34m)\u001b[0m\u001b[0;34m\u001b[0m\u001b[0;34m\u001b[0m\u001b[0m\n\u001b[1;32m      7\u001b[0m     \u001b[0mmodel\u001b[0m\u001b[0;34m.\u001b[0m\u001b[0madd\u001b[0m\u001b[0;34m(\u001b[0m\u001b[0mlayers\u001b[0m\u001b[0;34m.\u001b[0m\u001b[0mSimpleRNN\u001b[0m\u001b[0;34m(\u001b[0m\u001b[0;36m128\u001b[0m\u001b[0;34m,\u001b[0m \u001b[0mreturn_sequences\u001b[0m\u001b[0;34m=\u001b[0m\u001b[0;32mTrue\u001b[0m\u001b[0;34m,\u001b[0m \u001b[0mactivation\u001b[0m\u001b[0;34m=\u001b[0m\u001b[0;34m'relu'\u001b[0m\u001b[0;34m)\u001b[0m\u001b[0;34m)\u001b[0m\u001b[0;34m\u001b[0m\u001b[0;34m\u001b[0m\u001b[0m\n",
      "\u001b[0;31mNameError\u001b[0m: name 'models' is not defined"
     ]
    }
   ],
   "source": [
    "def init_model(X, y):\n",
    "    input_shape = X[0].shape\n",
    "    output_shape = y[0].shape[1]\n",
    "    print (input_shape, output_shape)\n",
    "    model = models.Sequential()\n",
    "    model.add(layers.SimpleRNN(128, return_sequences=True, activation='relu', input_shape=input_shape))\n",
    "    model.add(layers.SimpleRNN(128, return_sequences=True, activation='relu'))\n",
    "    model.add(layers.Dense(128, activation='relu'))\n",
    "    model.compile(loss='mse', optimizer=RMSprop(learning_rate=0.001))\n",
    "    return model\n",
    "\n",
    "model = init_model(X, y)\n",
    "model.summary()"
   ]
  },
  {
   "cell_type": "code",
   "execution_count": null,
   "id": "58371a08",
   "metadata": {},
   "outputs": [],
   "source": []
  }
 ],
 "metadata": {
  "kernelspec": {
   "display_name": "Python 3 (ipykernel)",
   "language": "python",
   "name": "python3"
  },
  "language_info": {
   "codemirror_mode": {
    "name": "ipython",
    "version": 3
   },
   "file_extension": ".py",
   "mimetype": "text/x-python",
   "name": "python",
   "nbconvert_exporter": "python",
   "pygments_lexer": "ipython3",
   "version": "3.8.12"
  },
  "toc": {
   "base_numbering": 1,
   "nav_menu": {},
   "number_sections": true,
   "sideBar": true,
   "skip_h1_title": false,
   "title_cell": "Table of Contents",
   "title_sidebar": "Contents",
   "toc_cell": false,
   "toc_position": {},
   "toc_section_display": true,
   "toc_window_display": false
  }
 },
 "nbformat": 4,
 "nbformat_minor": 5
}

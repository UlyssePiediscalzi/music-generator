{
 "cells": [
  {
   "cell_type": "code",
   "execution_count": 3,
   "id": "23842aeb",
   "metadata": {},
   "outputs": [
    {
     "name": "stdout",
     "output_type": "stream",
     "text": [
      "The autoreload extension is already loaded. To reload it, use:\n",
      "  %reload_ext autoreload\n"
     ]
    }
   ],
   "source": [
    "%load_ext autoreload  \n",
    "%autoreload 2"
   ]
  },
  {
   "cell_type": "code",
   "execution_count": 11,
   "id": "301816b8",
   "metadata": {},
   "outputs": [],
   "source": [
    "import pypianoroll\n",
    "import matplotlib.pyplot as plt\n",
    "import IPython\n",
    "import pretty_midi\n",
    "from midi2audio import FluidSynth\n",
    "import os\n",
    "import shutil\n",
    "import glob\n",
    "import numpy as np \n",
    "import pandas as pd\n",
    "import pretty_midi\n",
    "import pickle\n",
    "import pypianoroll\n",
    "from music21 import converter, instrument, note, chord, stream\n",
    "import music21\n",
    "# import librosa\n",
    "import matplotlib.pyplot as plt\n",
    "# from tensorflow.keras.utils import np_utils\n",
    "import json\n",
    "import IPython.display\n",
    "from datetime import datetime\n",
    "import mido\n",
    "root_dir = '../raw_data'\n",
    "from music_generator.data import get_npz_data, multitrack_to_midi, fetching_instrument_pianorolls"
   ]
  },
  {
   "cell_type": "code",
   "execution_count": 9,
   "id": "d5c67873",
   "metadata": {},
   "outputs": [],
   "source": [
    "data = get_npz_data(100, data_path='../raw_data/lpd_5/lpd_5_cleansed')"
   ]
  },
  {
   "cell_type": "code",
   "execution_count": 13,
   "id": "e3fddb3e",
   "metadata": {},
   "outputs": [],
   "source": [
    "pianorolls = fetching_instrument_pianorolls(data, 'Piano')"
   ]
  },
  {
   "cell_type": "code",
   "execution_count": 22,
   "id": "9ac18ee4",
   "metadata": {},
   "outputs": [],
   "source": [
    "midi_transfo = multitrack_to_midi(data, save_path='../raw_data/midi')"
   ]
  },
  {
   "cell_type": "code",
   "execution_count": 23,
   "id": "d915211a",
   "metadata": {},
   "outputs": [
    {
     "ename": "SyntaxError",
     "evalue": "invalid syntax (3785889345.py, line 4)",
     "output_type": "error",
     "traceback": [
      "\u001b[0;36m  File \u001b[0;32m\"/var/folders/40/ng9mh_p9257g6fg__r5hmzrh0000gn/T/ipykernel_36420/3785889345.py\"\u001b[0;36m, line \u001b[0;32m4\u001b[0m\n\u001b[0;31m    if standard.name in  and standard.pianoroll.shape[0] != 0:\u001b[0m\n\u001b[0m                         ^\u001b[0m\n\u001b[0;31mSyntaxError\u001b[0m\u001b[0;31m:\u001b[0m invalid syntax\n"
     ]
    }
   ],
   "source": [
    "for multi in data:\n",
    "        for standard in multi:\n",
    "#             print(standard)\n",
    "            if standard.name in  and standard.pianoroll.shape[0] != 0:\n",
    "                 print(standard)"
   ]
  },
  {
   "cell_type": "code",
   "execution_count": null,
   "id": "946d9438",
   "metadata": {},
   "outputs": [],
   "source": []
  },
  {
   "cell_type": "code",
   "execution_count": null,
   "id": "ed124ec5",
   "metadata": {},
   "outputs": [],
   "source": []
  },
  {
   "cell_type": "code",
   "execution_count": null,
   "id": "d68bfbdf",
   "metadata": {},
   "outputs": [],
   "source": []
  }
 ],
 "metadata": {
  "kernelspec": {
   "display_name": "Python 3 (ipykernel)",
   "language": "python",
   "name": "python3"
  },
  "language_info": {
   "codemirror_mode": {
    "name": "ipython",
    "version": 3
   },
   "file_extension": ".py",
   "mimetype": "text/x-python",
   "name": "python",
   "nbconvert_exporter": "python",
   "pygments_lexer": "ipython3",
   "version": "3.8.12"
  },
  "toc": {
   "base_numbering": 1,
   "nav_menu": {},
   "number_sections": true,
   "sideBar": true,
   "skip_h1_title": false,
   "title_cell": "Table of Contents",
   "title_sidebar": "Contents",
   "toc_cell": false,
   "toc_position": {},
   "toc_section_display": true,
   "toc_window_display": false
  }
 },
 "nbformat": 4,
 "nbformat_minor": 5
}

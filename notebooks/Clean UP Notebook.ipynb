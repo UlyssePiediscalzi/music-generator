{
 "cells": [
  {
   "cell_type": "code",
   "execution_count": 1,
   "id": "23842aeb",
   "metadata": {},
   "outputs": [],
   "source": [
    "%load_ext autoreload  \n",
    "%autoreload 2"
   ]
  },
  {
   "cell_type": "code",
   "execution_count": 2,
   "id": "301816b8",
   "metadata": {},
   "outputs": [],
   "source": [
    "import pypianoroll\n",
    "import matplotlib.pyplot as plt\n",
    "import IPython\n",
    "import pretty_midi\n",
    "from midi2audio import FluidSynth\n",
    "import os\n",
    "import shutil\n",
    "import glob\n",
    "import numpy as np \n",
    "import pandas as pd\n",
    "import pretty_midi\n",
    "import pickle\n",
    "import pypianoroll\n",
    "from music21 import converter, instrument, note, chord, stream\n",
    "import music21\n",
    "# import librosa\n",
    "import matplotlib.pyplot as plt\n",
    "# from tensorflow.keras.utils import np_utils\n",
    "import json\n",
    "import IPython.display\n",
    "from datetime import datetime\n",
    "import mido\n",
    "root_dir = '../raw_data'\n",
    "from music_generator.data import get_npz_data, multitrack_to_midi, fetching_instrument_pianorolls"
   ]
  },
  {
   "cell_type": "code",
   "execution_count": 3,
   "id": "d5c67873",
   "metadata": {},
   "outputs": [],
   "source": [
    "data = get_npz_data(100, data_path='../raw_data/lpd_5/lpd_5_cleansed')"
   ]
  },
  {
   "cell_type": "code",
   "execution_count": 4,
   "id": "e3fddb3e",
   "metadata": {},
   "outputs": [],
   "source": [
    "pianorolls = fetching_instrument_pianorolls(data, 'Piano')"
   ]
  },
  {
   "cell_type": "code",
   "execution_count": 5,
   "id": "3301a49e",
   "metadata": {},
   "outputs": [],
   "source": [
    "midi_transfo = multitrack_to_midi(data, save_path='../raw_data/midi')"
   ]
  },
  {
   "cell_type": "code",
   "execution_count": 7,
   "id": "d915211a",
   "metadata": {
    "scrolled": true
   },
   "outputs": [],
   "source": [
    "X = fetching_instrument_pianorolls(data, 'Piano')"
   ]
  },
  {
   "cell_type": "code",
   "execution_count": 40,
   "id": "a4c44af9",
   "metadata": {},
   "outputs": [
    {
     "data": {
      "text/plain": [
       "8856.0"
      ]
     },
     "execution_count": 40,
     "metadata": {},
     "output_type": "execute_result"
    }
   ],
   "source": [
    "list_shape= []\n",
    "\n",
    "for i in X:\n",
    "    list_shape.append(len(i))\n",
    "\n",
    "np.median(list_shape)"
   ]
  },
  {
   "cell_type": "code",
   "execution_count": null,
   "id": "770b865d",
   "metadata": {},
   "outputs": [],
   "source": []
  }
 ],
 "metadata": {
  "kernelspec": {
   "display_name": "Python 3 (ipykernel)",
   "language": "python",
   "name": "python3"
  },
  "language_info": {
   "codemirror_mode": {
    "name": "ipython",
    "version": 3
   },
   "file_extension": ".py",
   "mimetype": "text/x-python",
   "name": "python",
   "nbconvert_exporter": "python",
   "pygments_lexer": "ipython3",
   "version": "3.8.12"
  },
  "toc": {
   "base_numbering": 1,
   "nav_menu": {},
   "number_sections": true,
   "sideBar": true,
   "skip_h1_title": false,
   "title_cell": "Table of Contents",
   "title_sidebar": "Contents",
   "toc_cell": false,
   "toc_position": {},
   "toc_section_display": true,
   "toc_window_display": false
  }
 },
 "nbformat": 4,
 "nbformat_minor": 5
}

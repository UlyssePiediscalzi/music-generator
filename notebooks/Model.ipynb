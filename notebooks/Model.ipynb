{
 "cells": [
  {
   "cell_type": "code",
   "execution_count": 264,
   "id": "299bd4c6",
   "metadata": {},
   "outputs": [
    {
     "name": "stdout",
     "output_type": "stream",
     "text": [
      "The autoreload extension is already loaded. To reload it, use:\n",
      "  %reload_ext autoreload\n"
     ]
    }
   ],
   "source": [
    "%load_ext autoreload\n",
    "%autoreload 2\n",
    "\n",
    "import numpy as np\n",
    "import pypianoroll\n",
    "import matplotlib.pyplot as plt\n",
    "import pandas as pd\n",
    "\n",
    "from tensorflow.keras import models\n",
    "from tensorflow.keras import layers\n",
    "from tensorflow.keras.optimizers import RMSprop"
   ]
  },
  {
   "cell_type": "code",
   "execution_count": 184,
   "id": "bd30e938",
   "metadata": {},
   "outputs": [],
   "source": [
    "from music_generator.midi import play_pianoroll, sample_multitrack\n",
    "from music_generator.data import get_npz_data"
   ]
  },
  {
   "cell_type": "code",
   "execution_count": 185,
   "id": "cc814a81",
   "metadata": {},
   "outputs": [],
   "source": [
    "mtrack = get_npz_data(1, '../raw_data/lpd_5/lpd_5_cleansed')[0]\n",
    "piano = mtrack.tracks[1]"
   ]
  },
  {
   "cell_type": "code",
   "execution_count": 186,
   "id": "060b3c86",
   "metadata": {},
   "outputs": [],
   "source": [
    "X, y = sample_multitrack(mtrack, piano, 4, 4)"
   ]
  },
  {
   "cell_type": "code",
   "execution_count": 213,
   "id": "4bdece97",
   "metadata": {},
   "outputs": [
    {
     "data": {
      "text/plain": [
       "(65, 96, 128)"
      ]
     },
     "execution_count": 213,
     "metadata": {},
     "output_type": "execute_result"
    }
   ],
   "source": [
    "X.shape"
   ]
  },
  {
   "cell_type": "code",
   "execution_count": 187,
   "id": "67970aef",
   "metadata": {},
   "outputs": [
    {
     "data": {
      "image/png": "[encoded data removed]",
      "text/plain": [
       "<Figure size 1008x288 with 1 Axes>"
      ]
     },
     "metadata": {
      "needs_background": "light"
     },
     "output_type": "display_data"
    }
   ],
   "source": [
    "fig, ax = plt.subplots(figsize=(14,4))\n",
    "pypianoroll.plot_pianoroll(ax=ax, pianoroll=X[1]);"
   ]
  },
  {
   "cell_type": "code",
   "execution_count": 251,
   "id": "a54d7529",
   "metadata": {},
   "outputs": [
    {
     "data": {
      "image/png": "[encoded data removed]",
      "text/plain": [
       "<Figure size 1008x288 with 1 Axes>"
      ]
     },
     "metadata": {
      "needs_background": "light"
     },
     "output_type": "display_data"
    }
   ],
   "source": [
    "fig, ax = plt.subplots(figsize=(14,4))\n",
    "pypianoroll.plot_pianoroll(ax=ax, pianoroll=y[1]);"
   ]
  },
  {
   "cell_type": "code",
   "execution_count": 227,
   "id": "f74d02de",
   "metadata": {
    "scrolled": true
   },
   "outputs": [
    {
     "data": {
      "text/plain": [
       "(65, 96, 128)"
      ]
     },
     "execution_count": 227,
     "metadata": {},
     "output_type": "execute_result"
    }
   ],
   "source": [
    "X.shape"
   ]
  },
  {
   "cell_type": "code",
   "execution_count": 280,
   "id": "ecc88db8",
   "metadata": {
    "scrolled": true
   },
   "outputs": [
    {
     "name": "stdout",
     "output_type": "stream",
     "text": [
      "{0: 1, 1: 1, 2: 1, 3: 1, 4: 1, 5: 1, 6: 1, 7: 1, 8: 1, 9: 1, 10: 1, 11: 1, 12: 1, 13: 1, 14: 1, 15: 1, 16: 1, 17: 1, 18: 1, 19: 1, 20: 1, 21: 1, 22: 1, 23: 1, 24: 1, 25: 1, 26: 1, 27: 1, 28: 1, 29: 1, 30: 1, 31: 1, 32: 1, 33: 4, 34: 1, 35: 1, 36: 1, 37: 1, 38: 1, 39: 1, 40: 1, 41: 1, 42: 1, 43: 1, 44: 1, 45: 1, 46: 1, 47: 1, 48: 1, 49: 1, 50: 1, 51: 1, 52: 1, 53: 1, 54: 1, 55: 1, 56: 1, 57: 1, 58: 1, 59: 1, 60: 1, 61: 1, 62: 1, 63: 1, 64: 1, 65: 1, 66: 1, 67: 1, 68: 1, 69: 1, 70: 1, 71: 1, 72: 1, 73: 1, 74: 1, 75: 1, 76: 1, 77: 1, 78: 1, 79: 1, 80: 1, 81: 1, 82: 1, 83: 1, 84: 1, 85: 1, 86: 1, 87: 1, 88: 1, 89: 1, 90: 1, 91: 1, 92: 1, 93: 1, 94: 1, 95: 1, 96: 1, 97: 1, 98: 1, 99: 1, 100: 1, 101: 1, 102: 1, 103: 1, 104: 1, 105: 1, 106: 1, 107: 1, 108: 1, 109: 1, 110: 1, 111: 1, 112: 1, 113: 1, 114: 1, 115: 1, 116: 1, 117: 1, 118: 1, 119: 1, 120: 1, 121: 1, 122: 1, 123: 1, 124: 1, 125: 1, 126: 1, 127: 1}\n"
     ]
    }
   ],
   "source": [
    "df = pd.DataFrame(y[0])\n",
    "print(df.nunique(axis=0).to_dict())"
   ]
  },
  {
   "cell_type": "code",
   "execution_count": null,
   "id": "6acd583c",
   "metadata": {},
   "outputs": [],
   "source": [
    "[sample, time, note] => input shape?"
   ]
  },
  {
   "cell_type": "code",
   "execution_count": 239,
   "id": "3d219ece",
   "metadata": {},
   "outputs": [
    {
     "name": "stdout",
     "output_type": "stream",
     "text": [
      "(96, 128) 128\n",
      "Model: \"sequential_15\"\n",
      "_________________________________________________________________\n",
      " Layer (type)                Output Shape              Param #   \n",
      "=================================================================\n",
      " simple_rnn_11 (SimpleRNN)   (None, 96, 128)           32896     \n",
      "                                                                 \n",
      " simple_rnn_12 (SimpleRNN)   (None, 96, 128)           32896     \n",
      "                                                                 \n",
      " dense_8 (Dense)             (None, 96, 128)           16512     \n",
      "                                                                 \n",
      "=================================================================\n",
      "Total params: 82,304\n",
      "Trainable params: 82,304\n",
      "Non-trainable params: 0\n",
      "_________________________________________________________________\n"
     ]
    }
   ],
   "source": [
    "def init_model(X, y):\n",
    "    input_shape = X[0].shape\n",
    "    output_shape = y[0].shape[1]\n",
    "    print (input_shape, output_shape)\n",
    "    model = models.Sequential()\n",
    "    model.add(layers.SimpleRNN(128, return_sequences=True, activation='softmax', input_shape=input_shape))\n",
    "    model.add(layers.SimpleRNN(128, return_sequences=True, activation='softmax'))\n",
    "    model.add(layers.Dense(128, activation='softmax'))\n",
    "    model.compile(loss='categorical_crossentropy', optimizer=RMSprop(learning_rate=0.0003))\n",
    "    return model\n",
    "\n",
    "model = init_model(X, y)\n",
    "model.summary()"
   ]
  },
  {
   "cell_type": "code",
   "execution_count": 240,
   "id": "1caa3495",
   "metadata": {},
   "outputs": [
    {
     "name": "stdout",
     "output_type": "stream",
     "text": [
      "Epoch 1/30\n",
      "4/4 [==============================] - 1s 103ms/step - loss: 1641.3905 - val_loss: 1780.7540\n",
      "Epoch 2/30\n",
      "4/4 [==============================] - 0s 34ms/step - loss: 1638.7351 - val_loss: 1778.5969\n",
      "Epoch 3/30\n",
      "4/4 [==============================] - 0s 33ms/step - loss: 1636.8334 - val_loss: 1776.7540\n",
      "Epoch 4/30\n",
      "4/4 [==============================] - 0s 34ms/step - loss: 1635.1658 - val_loss: 1775.0625\n",
      "Epoch 5/30\n",
      "4/4 [==============================] - 0s 34ms/step - loss: 1633.6105 - val_loss: 1773.4427\n",
      "Epoch 6/30\n",
      "4/4 [==============================] - 0s 32ms/step - loss: 1632.1296 - val_loss: 1771.8625\n",
      "Epoch 7/30\n",
      "4/4 [==============================] - 0s 36ms/step - loss: 1630.6875 - val_loss: 1770.3312\n",
      "Epoch 8/30\n",
      "4/4 [==============================] - 0s 34ms/step - loss: 1629.2870 - val_loss: 1768.8347\n",
      "Epoch 9/30\n",
      "4/4 [==============================] - 0s 32ms/step - loss: 1627.8950 - val_loss: 1767.3212\n",
      "Epoch 10/30\n",
      "4/4 [==============================] - 0s 35ms/step - loss: 1626.5063 - val_loss: 1765.8413\n",
      "Epoch 11/30\n",
      "4/4 [==============================] - 0s 33ms/step - loss: 1625.1241 - val_loss: 1764.3718\n",
      "Epoch 12/30\n",
      "4/4 [==============================] - 0s 35ms/step - loss: 1623.7520 - val_loss: 1762.9080\n",
      "Epoch 13/30\n",
      "4/4 [==============================] - 0s 32ms/step - loss: 1622.3756 - val_loss: 1761.4688\n",
      "Epoch 14/30\n",
      "4/4 [==============================] - 0s 34ms/step - loss: 1621.0272 - val_loss: 1759.9850\n",
      "Epoch 15/30\n",
      "4/4 [==============================] - 0s 41ms/step - loss: 1619.6805 - val_loss: 1758.5269\n",
      "Epoch 16/30\n",
      "4/4 [==============================] - 0s 35ms/step - loss: 1618.3195 - val_loss: 1757.0690\n",
      "Epoch 17/30\n",
      "4/4 [==============================] - 0s 35ms/step - loss: 1616.9484 - val_loss: 1755.6096\n",
      "Epoch 18/30\n",
      "4/4 [==============================] - 0s 34ms/step - loss: 1615.5826 - val_loss: 1754.1350\n",
      "Epoch 19/30\n",
      "4/4 [==============================] - 0s 34ms/step - loss: 1614.2159 - val_loss: 1752.7043\n",
      "Epoch 20/30\n",
      "4/4 [==============================] - 0s 42ms/step - loss: 1612.8843 - val_loss: 1751.2435\n",
      "Epoch 21/30\n",
      "4/4 [==============================] - 0s 32ms/step - loss: 1611.5559 - val_loss: 1749.7863\n",
      "Epoch 22/30\n",
      "4/4 [==============================] - 0s 36ms/step - loss: 1610.1847 - val_loss: 1748.3159\n",
      "Epoch 23/30\n",
      "4/4 [==============================] - 0s 39ms/step - loss: 1608.8138 - val_loss: 1746.8446\n",
      "Epoch 24/30\n",
      "4/4 [==============================] - 0s 38ms/step - loss: 1607.4413 - val_loss: 1745.3744\n",
      "Epoch 25/30\n",
      "4/4 [==============================] - 0s 42ms/step - loss: 1606.1057 - val_loss: 1743.9323\n",
      "Epoch 26/30\n",
      "4/4 [==============================] - 0s 40ms/step - loss: 1604.7566 - val_loss: 1742.5018\n",
      "Epoch 27/30\n",
      "4/4 [==============================] - 0s 33ms/step - loss: 1603.4135 - val_loss: 1741.0835\n",
      "Epoch 28/30\n",
      "4/4 [==============================] - 0s 34ms/step - loss: 1602.0671 - val_loss: 1739.6311\n",
      "Epoch 29/30\n",
      "4/4 [==============================] - 0s 34ms/step - loss: 1600.7488 - val_loss: 1738.2241\n",
      "Epoch 30/30\n",
      "4/4 [==============================] - 0s 33ms/step - loss: 1599.3999 - val_loss: 1736.7625\n"
     ]
    }
   ],
   "source": [
    "history = model.fit(X, y, validation_split=0.2, epochs=30, batch_size=16)"
   ]
  },
  {
   "cell_type": "code",
   "execution_count": 241,
   "id": "0d68cb44",
   "metadata": {},
   "outputs": [
    {
     "data": {
      "text/plain": [
       "(1, 96, 128)"
      ]
     },
     "execution_count": 241,
     "metadata": {},
     "output_type": "execute_result"
    }
   ],
   "source": [
    "X[0].reshape(1, 96, 128).shape"
   ]
  },
  {
   "cell_type": "code",
   "execution_count": 242,
   "id": "53b43719",
   "metadata": {
    "scrolled": true
   },
   "outputs": [],
   "source": [
    "pred = model.predict(X[0].reshape(1, 96, 128))"
   ]
  },
  {
   "cell_type": "code",
   "execution_count": 245,
   "id": "74abd412",
   "metadata": {},
   "outputs": [
    {
     "data": {
      "image/png": "[encoded data removed]",
      "text/plain": [
       "<Figure size 1008x288 with 1 Axes>"
      ]
     },
     "metadata": {
      "needs_background": "light"
     },
     "output_type": "display_data"
    }
   ],
   "source": [
    "fig, ax = plt.subplots(figsize=(14,4))\n",
    "pypianoroll.plot_pianoroll(ax=ax, pianoroll=pred[0]);"
   ]
  },
  {
   "cell_type": "code",
   "execution_count": null,
   "id": "b742466f",
   "metadata": {},
   "outputs": [],
   "source": []
  }
 ],
 "metadata": {
  "kernelspec": {
   "display_name": "Python 3 (ipykernel)",
   "language": "python",
   "name": "python3"
  },
  "language_info": {
   "codemirror_mode": {
    "name": "ipython",
    "version": 3
   },
   "file_extension": ".py",
   "mimetype": "text/x-python",
   "name": "python",
   "nbconvert_exporter": "python",
   "pygments_lexer": "ipython3",
   "version": "3.8.12"
  }
 },
 "nbformat": 4,
 "nbformat_minor": 5
}
